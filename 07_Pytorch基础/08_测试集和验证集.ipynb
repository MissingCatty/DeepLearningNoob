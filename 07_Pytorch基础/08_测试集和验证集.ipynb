{
 "cells": [
  {
   "cell_type": "markdown",
   "metadata": {},
   "source": [
    "# 1. 测试集和验证集"
   ]
  },
  {
   "cell_type": "markdown",
   "metadata": {},
   "source": [
    "- 验证集：一个用来评估模型好坏的数据集\n",
    "  - 不要和训练集混用\n",
    "- 测试集：只用一次的数据集"
   ]
  },
  {
   "cell_type": "markdown",
   "metadata": {},
   "source": [
    "# 2. K则交叉验证"
   ]
  },
  {
   "cell_type": "markdown",
   "metadata": {},
   "source": [
    "- 适用情况：数据集不太大的情况\n",
    "- 算法：\n",
    "  - 把整个数据集分成K份，每次取第i(i=1,...,k)份作为**验证集**，其余作为训练集\n",
    "  - 循环k次，取平均值"
   ]
  }
 ],
 "metadata": {
  "language_info": {
   "name": "python"
  }
 },
 "nbformat": 4,
 "nbformat_minor": 2
}
