{
 "cells": [
  {
   "attachments": {},
   "cell_type": "markdown",
   "metadata": {},
   "source": [
    "# 一、从数据中学习\n",
    "\n",
    "要识别一张图像，先从图像中提取特征量，再用机器学习技术学习这些特征量的模式。\n",
    "\n",
    "何为**特征量**？即：从输入数据（输入图像）中准确地提取**本质数据**（重要的数据）的转换器，通常表示为向量。在计算机视觉领域，常用的特征量包括SIFT、SURF和HOG等。\n",
    "\n",
    "**将一张图像转换成特征量（向量），然后对转换后的特征量进行机器学习（SVM、KNN等分类器）。**\n",
    "\n",
    "机器学习的方法中，由机器从收集到的数据中找出规律性。与从零开始想出算法相比，这种方法可以更高效地解决问题，也能减轻人的负担。但是需要注意的是，将图像转换为向量时使用的特征量仍是由人设计的。对于不同的问题，必须使用合适的特征量（必须设计专门的特征量），才能得到好的结果。比如，为了区分狗的脸部，人们需要考虑与用于识别5的特征量不同的其他特征量。也就是说，即使使用特征量和机器学习的方法，也需要针对不同的问题人工考虑合适的特征量。\n",
    "\n",
    "![image-20230314214816571](https://zyc-learning-1309954661.cos.ap-nanjing.myqcloud.com/machine-learning-pic/image-20230314214816571.png)\n",
    "\n",
    "# 二、损失函数\n",
    "\n",
    "损失函数是表示神经网络性能的“恶劣程度”的指标，即当前的神经网络对监督数据在多大程度上不拟合，在多大程度上不一致。\n",
    "\n",
    "损失函数可以使用任意函数，但一般用**均方误差**和**交叉熵误差**等。\n",
    "\n",
    "## 2.1均方误差\n",
    "\n",
    "![image-20230314215149638](https://zyc-learning-1309954661.cos.ap-nanjing.myqcloud.com/machine-learning-pic/image-20230314215149638.png)\n",
    "\n",
    "其中，$y_k$表示神经网络的输出，$t_k$表示监督数据，$k$表示数据的维数。\n",
    "\n",
    "通俗点讲，$y_k$就是神经网络预测的结果（不一定准确），$t_k$就是标准答案，把结果和标准答案之间求一个误差，从而判断网络的优劣。\n",
    "\n",
    "如手写数字识别的例子中，$y_k=[0.1, 0.05, 0.6, 0.0, 0.05, 0.1, 0.0, 0.1, 0.0, 0.0]$，$t_k=[0, 0, 1, 0, 0, 0, 0, 0, 0, 0]$，$k=10$\n",
    "\n",
    "均方误差代码实现："
   ]
  },
  {
   "cell_type": "code",
   "execution_count": 2,
   "metadata": {},
   "outputs": [],
   "source": [
    "import numpy as np\n",
    "\n",
    "\n",
    "def mean_squared_error(y, t):\n",
    "    return 0.5*np.sum(np.square(y-t))\n"
   ]
  },
  {
   "attachments": {},
   "cell_type": "markdown",
   "metadata": {},
   "source": [
    "## 2.2交叉熵\n",
    "\n",
    "![image-20230315095953261](https://zyc-learning-1309954661.cos.ap-nanjing.myqcloud.com/machine-learning-pic/image-20230315095953261.png)\n",
    "\n",
    "其中，$log$是指以e为底的自然对数。\n",
    "\n",
    "经过观察该式子可以发现，假如$y_k=[0.1, 0.05, 0.6, 0.0, 0.05, 0.1, 0.0, 0.1, 0.0, 0.0]$，$t_k=[0, 0, 1, 0, 0, 0, 0, 0, 0, 0]$，由于交叉熵损失函数是标签$t_k$与其对应的输出取对数$log(y_k)$相乘，且分类问题标签中只有若干位是1（有效）其他全是0（无效），所以交叉熵误差的值是由正确解标签所对应的输出结果决定的，在这个例子中就是索引为2的数据，损失值$=-log0.6$。\n",
    "\n",
    "下图是$log_ex$的函数图像，经过分析发现，$x$越大（即$y_k$（概率）越大），$y$就越大，从而$-logx$就越小：\n",
    "\n",
    "![image-20230315101559654](https://zyc-learning-1309954661.cos.ap-nanjing.myqcloud.com/machine-learning-pic/image-20230315101559654.png)\n",
    "\n",
    "**简而言之，交叉熵就是告诉你，我只要看标准答案对应的输出结果（概率）是多少，如果概率越大，说明输出正确的可能性越大，从而损失值越小。**\n",
    "\n",
    "交叉熵损失函数代码实现："
   ]
  },
  {
   "cell_type": "code",
   "execution_count": 3,
   "metadata": {},
   "outputs": [
    {
     "name": "stdout",
     "output_type": "stream",
     "text": [
      "0.510825457099338\n"
     ]
    }
   ],
   "source": [
    "def cross_entropy_error(y, label):\n",
    "    delta = 1e-7\n",
    "    tmp = -np.sum(np.multiply(np.log(np.add(y, delta)), label))\n",
    "    return tmp\n",
    "\n",
    "\n",
    "# 测试\n",
    "label = [0, 0, 1, 0, 0, 0, 0, 0, 0, 0]\n",
    "y = [0.1, 0.05, 0.6, 0.0, 0.05, 0.1, 0.0, 0.1, 0.0, 0.0]\n",
    "print(cross_entropy_error(y, label))\n"
   ]
  },
  {
   "attachments": {},
   "cell_type": "markdown",
   "metadata": {},
   "source": [
    "上述代码中加入$delta$的原因是：防止输入为0的时候，出现$log(0)$，计算无法进行。\n",
    "\n",
    "上面讲的是对于一个输入数据（一张图片）输出的损失函数，那么现在数据集中有N个输入数据，就需要用所有单个损失值求一个总的损失值。方法是：把N个数据的全部损失值求和，再求平均。公式如下：\n",
    "\n",
    "![image-20230318084906353](https://zyc-learning-1309954661.cos.ap-nanjing.myqcloud.com/machine-learning-pic/image-20230318084906353.png)\n",
    "\n",
    "## 2.3mini-batch学习\n",
    "\n",
    "再MNIST数据集中，训练数据有60000个（有些数据集中数据量会比这大得多），如果将每一个数据都求损失函数并求平均，那计算量将会变得非常大，显然是不现实的。所以就在60000个数据中，随机采取一小部分数据（比如100个）来进行学习。这种学习方法叫做mini-batch方法。\n",
    "\n",
    "下面来编写从训练数据中随机选择指定个数的数据的代码："
   ]
  },
  {
   "cell_type": "code",
   "execution_count": 4,
   "metadata": {},
   "outputs": [],
   "source": [
    "import sys,os\n",
    "\n",
    "current_file_path = os.path.dirname(os.path.realpath('__file__'))\n",
    "Demo_path = os.path.join(current_file_path, 'Demo')\n",
    "sys.path.append(Demo_path)\n",
    "\n",
    "from dataset.mnist import load_mnist\n",
    "\n",
    "(x_train, label_train), (x_test, label_test) = load_mnist(\n",
    "    normalize=True, flatten=True, one_hot_label=True)\n",
    "\n",
    "#(60000, 784)\n",
    "#(60000, 10)\n",
    "#(10000, 784)\n",
    "#(10000, 10)\n",
    "\n",
    "# 随机抽取数据\n",
    "train_size = x_train.shape[0]  # 总数据量\n",
    "batch_size = 10  # 预抽取数据量\n",
    "# 返回抽取的10个数对应的源数组x_train的下标\n",
    "batch_mask = np.random.choice(train_size, batch_size)\n",
    "x_batch = x_train[batch_mask]\n",
    "label_batch = label_train[batch_mask]\n"
   ]
  },
  {
   "attachments": {},
   "cell_type": "markdown",
   "metadata": {},
   "source": [
    "## 2.4mini-batch版的交叉熵损失函数"
   ]
  },
  {
   "cell_type": "code",
   "execution_count": 5,
   "metadata": {},
   "outputs": [],
   "source": [
    "def cross_entropy_error(y, label):\n",
    "    if y.ndim == 1:\n",
    "        y = np.reshape(1, y.size)\n",
    "        label = np.reshape(1, label.size)\n",
    "\n",
    "    batch_size = y.shape[0]\n",
    "    return -np.sum(np.multiply(label, np.log(np.add(y, 1e-7))))/batch_size\n",
    "\n"
   ]
  },
  {
   "attachments": {},
   "cell_type": "markdown",
   "metadata": {},
   "source": [
    "上述代码中为什么要先对维度是1的输入数据和标签reshape？因为要和维度大于1的输入数据进行统一，维度为1的数据的shape为(size,)，将其转为(1,size)，方便之后batch_size获取输入数据的条数。\n",
    "\n"
   ]
  },
  {
   "attachments": {},
   "cell_type": "markdown",
   "metadata": {},
   "source": [
    "## 2.5损失函数的作用\n",
    "\n",
    "先来看何为“学习”？学习就是指不断地试错，从试错的结果中吸取教训，之后改变之前的观念和认知的过程。\n",
    "\n",
    "在机器学习里，整个过程和上述一致。首先要明确**学习的对象是网络的参数（即权重W）**。再看学习的过程：首先随机/任意确定网络的参数，将数据喂入网络得到输出，一开始得到的结果肯定不尽人意（试错）；将得到的结果和标准答案作比较，即计算损失函数（吸取教训）；最后通过损失函数的值判断当前参数是否满意，从而经过某些计算修改网络参数（改变认知）；上述过程重复多次，直至输出正确率符合预期。\n",
    "\n",
    "关于某些修改网络参数的计算，就是指能够找到使损失函数的值尽可能小的参数的计算。一般为了找到使损失函数尽可能小的地方，就要计算参数的导数，然后以导数为指引，逐步更新参数的值。\n",
    "\n",
    "假设有一个神经网络，我们要关注网络中某一个权重参数。对**该参数的损失函数求导**，这个步骤的意思是“**如果稍微改变这个权重参数的值，损失函数会如何变化**”。<u>如果导数的值为负（此段函数呈现单调递减），通过使该权重参数向正方向改变，可以减小损失函数的值；反过来，如果导数的值为正（此段函数呈现单调递增），则通过使该权重参数向负方向改变，可以减小损失函数的值。当导数变为0时，权重参数停止更新。</u>\n",
    "\n",
    "对于参数为二维的情况，上面的导数就称为“方向导数”（表达的意思都是微小变化率，只是称呼不同）。可以很形象的用下面这张图来理解：\n",
    "\n",
    "![image-20220730104349017](https://zyc-learning-1309954661.cos.ap-nanjing.myqcloud.com/machine-learning-pic/image-20220730104349017.png)\n",
    "\n",
    "上图中，显示了对于两个权重参数$(\\theta_0,\\theta_1)$取不同的值，对应的损失函数的值。看起来很像起伏的山峰和山谷，而地形的陡峭程度就是方向导数，而我们的目标就是求出红色箭头所指的地方（即损失函数最小点），对应的参数$\\theta_0$和$\\theta_1$是多少。\n",
    "\n",
    "假如我们现在在图中的\"+\"处（即初始点，初始随机参数），想要找到图中的最低点，不可能一下子就确定它的位置，肯定要从\"+\"处不断摸索，找到当前点处的方向导数下降最快的方向然后移动，而表示导数变化最快的量我们称为“梯度”。所以，找最低点的步骤就归纳为：初始点出发，求梯度，找到方向，移动一小步；循环如上步骤，直到导数为0。\n",
    "\n",
    "<i>**1. 为什么选择损失函数作为更新参数的衡量标准，而不是识别精度？**</i>\n",
    "\n",
    "神经网络更新最重要的一点是： **权重参数的连续微小变化能引起损失函数的连续变化。** 举个例子，假设某神经网络在权重$W_1$下对100张手写数字图片进行识别，成功识别20张，识别精度为20%。现在改变$W_1$中某些参数变为$W_2$，仍成功识别20张，那计算导数（变化率）就导致一些区域内的导数为0，导数为0停止更新，这就导致多处神经元死亡。\n",
    "\n",
    "<i>**2. 为什么使用阶跃函数会导致神经网络停止更新？**</i>\n",
    "\n",
    "跟上述问题一样，阶跃函数在负区间上输出始终为0；在正区间上，输出始终为1。这就造成无论参数怎么改，只要输入不变号，输出就不变。某些区域导数为0，停止更新。"
   ]
  },
  {
   "attachments": {},
   "cell_type": "markdown",
   "metadata": {},
   "source": [
    "# 三、数值微分\n",
    "\n",
    "## 3.1 导数\n",
    "\n",
    "导数公式：\n",
    "\n",
    "![image-20230319203710670](https://zyc-learning-1309954661.cos.ap-nanjing.myqcloud.com/machine-learning-pic/image-20230319203710670.png)\n",
    "\n",
    "按照该公式写出计算导数的代码："
   ]
  },
  {
   "cell_type": "code",
   "execution_count": 6,
   "metadata": {},
   "outputs": [],
   "source": [
    "def numerical_diff(f, x):\n",
    "    h = 1e-5\n",
    "    return (f(x+h), f(x))/h"
   ]
  },
  {
   "attachments": {},
   "cell_type": "markdown",
   "metadata": {},
   "source": [
    "上述代码看似没有问题，但其中引入了一个非常小的量$h$，python中如果数值过于小，就会省略小数中精细的部分，如下："
   ]
  },
  {
   "cell_type": "code",
   "execution_count": 25,
   "metadata": {},
   "outputs": [
    {
     "name": "stdout",
     "output_type": "stream",
     "text": [
      "0.0\n"
     ]
    }
   ],
   "source": [
    "print(np.float32(1e-46))    # 最小1e-45"
   ]
  },
  {
   "attachments": {},
   "cell_type": "markdown",
   "metadata": {},
   "source": [
    "解决这个问题，就将$h$改为$10^{-4}$。\n",
    "\n",
    "第二个需要改进的地方为：给微小量$h$取值，和对$h$取极限，这两者本身就有误差，前者计算的是两点直线的斜率，后者计算的是某一点的切线斜率。**为了减小这个误差，可以计算函数$f$在$x+h$和$x-h$之间的差分。**\n",
    "\n",
    "改进后的导数计算算法如下："
   ]
  },
  {
   "cell_type": "code",
   "execution_count": 8,
   "metadata": {},
   "outputs": [],
   "source": [
    "def numerical_diff(f,x):\n",
    "    h=1e-4\n",
    "    return (f(x+h)-f(x-h))/(2*h)"
   ]
  },
  {
   "attachments": {},
   "cell_type": "markdown",
   "metadata": {},
   "source": [
    "接下来，用这个函数求个简单的导数\n",
    "\n",
    "![image-20230319214009223](https://zyc-learning-1309954661.cos.ap-nanjing.myqcloud.com/machine-learning-pic/image-20230319214009223.png)"
   ]
  },
  {
   "cell_type": "code",
   "execution_count": 9,
   "metadata": {},
   "outputs": [
    {
     "data": {
      "image/png": "[encoded data removed]",
      "text/plain": [
       "<Figure size 640x480 with 1 Axes>"
      ]
     },
     "metadata": {},
     "output_type": "display_data"
    }
   ],
   "source": [
    "import matplotlib.pyplot as plt\n",
    "\n",
    "# 确定函数式\n",
    "def func(x):\n",
    "    return 0.01*x**2+0.1*x\n",
    "\n",
    "# 求某点的切线\n",
    "def tangent_line(f, x):\n",
    "    gradient = numerical_diff(f, x)  # 切线斜率\n",
    "\n",
    "    def line(_x):\n",
    "        return gradient*(_x-x)+f(x)\n",
    "    \n",
    "    return line #返回一个函数式\n",
    "\n",
    "# 画线\n",
    "x = np.arange(0, 20, 0.1)\n",
    "y1 = func(x)\n",
    "tf=tangent_line(func,5)\n",
    "y2=tf(x)\n",
    "plt.plot(x,y1)\n",
    "plt.plot(x,y2,linestyle='--')\n",
    "plt.show()\n"
   ]
  },
  {
   "attachments": {},
   "cell_type": "markdown",
   "metadata": {},
   "source": [
    "## 3.2偏导数\n",
    "\n",
    "假如现在有如下式子：\n",
    "\n",
    "![image-20230320103225419](https://zyc-learning-1309954661.cos.ap-nanjing.myqcloud.com/machine-learning-pic/image-20230320103225419.png)\n",
    "\n",
    "其中有两个变量，下面用代码实现："
   ]
  },
  {
   "cell_type": "code",
   "execution_count": 10,
   "metadata": {},
   "outputs": [
    {
     "data": {
      "image/png": "[encoded data removed]",
      "text/plain": [
       "<Figure size 640x480 with 1 Axes>"
      ]
     },
     "metadata": {},
     "output_type": "display_data"
    }
   ],
   "source": [
    "def func(x):\n",
    "    return x[0]**2+x[1]**2\n",
    "\n",
    "#设置图像为三维格式\n",
    "figure=plt.figure()\n",
    "ax=plt.axes(projection='3d')\n",
    "\n",
    "#确定输入范围\n",
    "X1=np.arange(-10,10,0.1)\n",
    "X2=np.arange(-10,10,0.1)\n",
    "\n",
    "#绘制网格\n",
    "X1,X2=np.meshgrid(X1,X2)\n",
    "\n",
    "#确定表达式\n",
    "Z=X1**2+X2**2\n",
    "\n",
    "#画图\n",
    "ax.plot_surface(X1,X2,Z,cmap='rainbow')\n",
    "plt.show()\n"
   ]
  },
  {
   "attachments": {},
   "cell_type": "markdown",
   "metadata": {},
   "source": [
    "求偏导数：待求变量不动，另一个变量看成常数，再对待求变量求导\n",
    "\n",
    "比如，当$x_0=3，x_1=4$时，对$x_0$求偏导数如下：\n"
   ]
  },
  {
   "cell_type": "code",
   "execution_count": 11,
   "metadata": {},
   "outputs": [
    {
     "name": "stdout",
     "output_type": "stream",
     "text": [
      "6.00000000000378\n"
     ]
    }
   ],
   "source": [
    "def func_tmp1(x0):\n",
    "    return x0**2+4**2\n",
    "\n",
    "print(numerical_diff(func_tmp1,3))"
   ]
  },
  {
   "attachments": {},
   "cell_type": "markdown",
   "metadata": {},
   "source": [
    "## 3.3梯度\n",
    "\n",
    "求$x_0=3,x_1=4$时，$x_0,x_1$的偏导数为：![image-20230320150135578](https://zyc-learning-1309954661.cos.ap-nanjing.myqcloud.com/machine-learning-pic/image-20230320150135578.png)\n",
    "\n",
    "像这样**全部由变量的偏导数汇总而成的向量**称为**梯度**。\n",
    "\n",
    "梯度的实现如下："
   ]
  },
  {
   "cell_type": "code",
   "execution_count": 12,
   "metadata": {},
   "outputs": [
    {
     "name": "stdout",
     "output_type": "stream",
     "text": [
      "[6. 8.]\n"
     ]
    }
   ],
   "source": [
    "#x是变量的取值，x.size代表变量的个数\n",
    "def numerical_gradient(f,x):\n",
    "    h=1e-4\n",
    "    gradient=np.zeros_like(x) #生成和x一样大小的全零数组\n",
    "\n",
    "    for i in range(x.size):\n",
    "        #计算f(x+h)\n",
    "        #取出其中一个（待求变量）+h，另一个不动\n",
    "        tmp=x[i]\n",
    "        x[i]=tmp+h\n",
    "        f1=f(x)\n",
    "\n",
    "        #计算f(x-h)\n",
    "        x[i]=tmp-h\n",
    "        f2=f(x)\n",
    "\n",
    "        #求差分\n",
    "        gradient[i]=(f1-f2)/(2*h)\n",
    "\n",
    "        #还原\n",
    "        x[i]=tmp\n",
    "    \n",
    "    return gradient\n",
    "\n",
    "#测试\n",
    "print(numerical_gradient(func,np.array([3.0,4.0])))\n",
    "    "
   ]
  },
  {
   "attachments": {},
   "cell_type": "markdown",
   "metadata": {},
   "source": [
    "下图为函数$f(x_0,x_1)=x_0^2+x_1^2$的每个取值点的梯度（一个向量），可以观察发现，每个点的梯度都指向该函数的最低处，且离最低处越远，箭头越大。\n",
    "\n",
    "![image-20230320204319480](https://zyc-learning-1309954661.cos.ap-nanjing.myqcloud.com/machine-learning-pic/image-20230320204319480.png)\n",
    "\n",
    "实际上，梯度会指向各点处函数值降低的方向；**更严格的说，梯度指示的方向是各点处的函数值减小最多的方向**。这一点非常重要，对于如何在一点能够最快的找到局部函数值最低点有着至关重要的作用，也是下面所讲的梯度下降法的基础。\n",
    "\n",
    "## 3.4梯度法\n",
    "\n",
    "通过使用梯度来寻找函数最小值的方法就是梯度法。\n",
    "\n",
    "需要注意的是，梯度表示的是各点处的函数值减小最多的方向。所以，**梯度所指方向不一定是函数值最小值或真正应该前进的方向**。实际上，在复杂的函数中，梯度指示的方向基本上都不是函数值最小处。\n",
    "\n",
    "虽然梯度的方向并不一定指向最小值，但**沿着它的方向能够最大限度地减小函数的值**。因此，在寻找函数的最小值（或者尽可能小的值）的位置的任务中，要**以梯度的信息为线索**，决定前进的方向。\n",
    "\n",
    "**梯度法**：函数的取值从当前位置沿着梯度方向前进一定距离，然后在新的地方重新求梯度，再沿着新梯度方向前进，如此反复，不断地沿梯度方向前进，从而逐渐减小函数值。\n",
    "\n",
    "下面用表达式来表示梯度法：\n",
    "\n",
    "![image-20230320212036421](https://zyc-learning-1309954661.cos.ap-nanjing.myqcloud.com/machine-learning-pic/image-20230320212036421.png)\n",
    "\n",
    "上式中，将一个向量分为两个基向量进行计算，$\\eta$为**学习率**，表示了每次朝梯度方向迈出距离的长短。以下图为例：\n",
    "\n",
    "![image-20220730104349017](https://zyc-learning-1309954661.cos.ap-nanjing.myqcloud.com/machine-learning-pic/image-20220730104349017.png)\n",
    "\n",
    "图中可以看出，有多个极小值/局部最小值（洼地），如果每次步子迈的太大，即学习率$\\eta$过大，就可能一步跨过（错过）最小值点，导致一直在找最小值点，模型没办法收敛，这被称为**梯度爆炸**；反之，如果学习率过小，就有可能陷入局部最小值点（极小值点），从而找到的不是全局最小值点。\n",
    "\n",
    "一般的，在训练中，学习率都要实现确定为某个值，比如0.01或0.001。在神经网络的学习中，一般会一边改变学习率的值，一边确认学习是否正确进行了。\n",
    "\n",
    "下面用python实现梯度下降法："
   ]
  },
  {
   "cell_type": "code",
   "execution_count": 13,
   "metadata": {},
   "outputs": [],
   "source": [
    "def gradient_descent(f,x,lr=0.01,step_num=100):\n",
    "    for i in range(step_num):\n",
    "        grad=numerical_gradient(f,x)\n",
    "        x=x-lr*grad\n",
    "\n",
    "    return x"
   ]
  },
  {
   "attachments": {},
   "cell_type": "markdown",
   "metadata": {},
   "source": [
    "尝试用梯度法求如下函数的最小值：\n",
    "\n",
    "![](https://zyc-learning-1309954661.cos.ap-nanjing.myqcloud.com/machine-learning-pic/image-20230321125317446.png)"
   ]
  },
  {
   "cell_type": "code",
   "execution_count": 14,
   "metadata": {},
   "outputs": [
    {
     "name": "stdout",
     "output_type": "stream",
     "text": [
      "[-6.11110793e-10  8.14814391e-10]\n"
     ]
    }
   ],
   "source": [
    "def func(x):\n",
    "    return x[0]**2 + x[1]**2\n",
    "\n",
    "print(gradient_descent(func,np.array([-3.0,4.0]),0.1,100))"
   ]
  },
  {
   "attachments": {},
   "cell_type": "markdown",
   "metadata": {},
   "source": [
    "下图是上述梯度下降法的过程，原点处是最低的地方，函数的取值一点点在向其靠近。\n",
    "\n",
    "![image-20230321130636218](https://zyc-learning-1309954661.cos.ap-nanjing.myqcloud.com/machine-learning-pic/image-20230321130636218.png)\n",
    "\n",
    "- 如果把学习率调小一点，变成0.01，结果就会像下面这样，步子迈的太小，到不了最小值。\n",
    "\n",
    "![image-20230321130450855](https://zyc-learning-1309954661.cos.ap-nanjing.myqcloud.com/machine-learning-pic/image-20230321130450855.png)\n",
    "\n",
    "- 如果学习率太大，调成0.6，就直接跨过最低点。\n",
    "\n",
    "![image-20230321130556992](https://zyc-learning-1309954661.cos.ap-nanjing.myqcloud.com/machine-learning-pic/image-20230321130556992.png)\n",
    "\n",
    "## 3.5神经网络的梯度\n",
    "\n",
    "假如此时有一个形状为2×3的权重，下面一行是各参数的偏导数：\n",
    "\n",
    "![image-20230321135158526](https://zyc-learning-1309954661.cos.ap-nanjing.myqcloud.com/machine-learning-pic/image-20230321135158526.png)\n",
    "\n",
    "下面以上述神经网络为例，实现一个SimpleNet类："
   ]
  },
  {
   "cell_type": "code",
   "execution_count": 15,
   "metadata": {},
   "outputs": [],
   "source": [
    "import numpy as np\n",
    "\n",
    "# 预先准备：激活函数（softmax），损失函数（cross_entropy_error），梯度计算函数(numerical_gradient)\n",
    "def softmax(x):\n",
    "    max = np.max(x)\n",
    "    tmp = np.sum(np.exp(x-max))\n",
    "    return np.exp(x-max)/tmp\n",
    "\n",
    "\n",
    "def cross_entropy_error(y, label):\n",
    "    if y.ndim == 1:\n",
    "        y = y.reshape(1, y.size)\n",
    "        label = label.reshape(1, label.size)\n",
    "\n",
    "    # 对输入的y进行处理，取batch\n",
    "    batch_size = y.shape[0]\n",
    "\n",
    "    # 交叉熵损失计算的是label（one-hot）中为1的那一位对应的输出，所以找出为1的索引\n",
    "    one_index = np.argmax(label, axiFs=1)\n",
    "\n",
    "    return -np.sum(np.log(np.add(y[0:batch_size, one_index], 1e-7)))/batch_size\n",
    "\n",
    "\n",
    "def numerical_gradient(f, W):\n",
    "    h = 1e-4\n",
    "    grad = np.zeros_like(W)\n",
    "\n",
    "    # 求偏导\n",
    "    # flags=['multi_index']表示追踪iter的下标\n",
    "    iter = np.nditer(W, flags=['multi_index'], op_flags=['readwrite'])\n",
    "    while not iter.finished:\n",
    "        # 获取当前参数的下标\n",
    "        index = iter.multi_index\n",
    "        # 保存当前iter的值\n",
    "        tmp = W[index]\n",
    "        # 求f(x+h)\n",
    "        W[index] = tmp+h\n",
    "        f1 = f(W)\n",
    "        # 求f(x-h)\n",
    "        W[index] = tmp-h\n",
    "        f2 = f(W)\n",
    "        # 求梯度\n",
    "        grad[index] = (f1-f2)/(2*h)\n",
    "        # 还原值\n",
    "        W[index] = tmp\n",
    "        # 继续迭代\n",
    "        iter.iternext()\n",
    "\n",
    "    return grad\n",
    "\n",
    "\n",
    "class SimpleNet:\n",
    "    def __init__(self) -> None:\n",
    "        self.W = np.random.randn(2, 3)\n",
    "\n",
    "    # 前向传播\n",
    "    def predict(self, x):\n",
    "        z = np.dot(x, self.W)\n",
    "        y = softmax(z)\n",
    "\n",
    "        return y\n",
    "\n",
    "    # 计算损失函数\n",
    "    def loss(self, y, label):\n",
    "        return cross_entropy_error(y, label)\n"
   ]
  },
  {
   "attachments": {},
   "cell_type": "markdown",
   "metadata": {},
   "source": [
    "# 四、学习算法实现"
   ]
  },
  {
   "attachments": {},
   "cell_type": "markdown",
   "metadata": {},
   "source": [
    "## 4.1学习算法基本步骤\n",
    "\n",
    "**1. 选取数据**\n",
    "\n",
    "从训练数据中随机选出一部分数据，这部分数据称为mini-batch。我们的目标是减小mini-batch的损失函数的值。\n",
    "\n",
    "**2. 前向传播**\n",
    "\n",
    "将mini-batch输入网络，根据计算得到输出。\n",
    "\n",
    "**3. 求梯度**\n",
    "\n",
    "根据（2）中的输出、标签（标准答案）以及损失函数，计算梯度，得到能够使损失函数降低的方向。\n",
    "\n",
    "**4. 更新参数**\n",
    "\n",
    "由（3）中的方向和学习率，更新各个参数值。\n",
    "\n",
    "**5. 重复前三步**\n",
    "\n"
   ]
  },
  {
   "cell_type": "markdown",
   "metadata": {},
   "source": [
    "## 4.2两层神经网络的类TwoLayerNet\n"
   ]
  },
  {
   "cell_type": "code",
   "execution_count": 16,
   "metadata": {},
   "outputs": [
    {
     "data": {
      "text/plain": [
       "{'W1': array([[ 0.00151804, -0.00284742, -0.00213414],\n",
       "        [ 0.00303608, -0.00569484, -0.00426828]]),\n",
       " 'b1': array([ 0.00151804, -0.00284742, -0.00213414]),\n",
       " 'W2': array([[ 0.2517775 , -0.2517775 ],\n",
       "        [ 0.24797921, -0.24797921],\n",
       "        [ 0.25181158, -0.25181158]]),\n",
       " 'b2': array([ 0.49650598, -0.49650598])}"
      ]
     },
     "execution_count": 16,
     "metadata": {},
     "output_type": "execute_result"
    }
   ],
   "source": [
    "import numpy as np\n",
    "\n",
    "\n",
    "def softmax(x):\n",
    "    max = np.max(x)\n",
    "    tmp = np.sum(np.exp(x-max))\n",
    "    return np.exp(x-max)/tmp\n",
    "\n",
    "\n",
    "def sigmoid(x):\n",
    "    return 1 / (1 + np.exp(-x))\n",
    "\n",
    "\n",
    "def cross_entropy_error(y, label):\n",
    "    if y.ndim == 1:\n",
    "        y = y.reshape(1, y.size)\n",
    "        label = label.reshape(1, label.size)\n",
    "\n",
    "    # 对输入的y进行处理，取batch\n",
    "    batch_size = y.shape[0]\n",
    "\n",
    "    # 交叉熵损失计算的是label（one-hot）中为1的那一位对应的输出，所以找出为1的索引\n",
    "    one_index = label.argmax(axis=1)\n",
    "\n",
    "    return -np.sum(np.log(np.add(y[0:batch_size, one_index], 1e-7)))/batch_size\n",
    "\n",
    "\n",
    "def numerical_gradient(f, W):\n",
    "    h = 1e-4\n",
    "    grad = np.zeros_like(W)\n",
    "\n",
    "    # 求偏导\n",
    "    # flags=['multi_index']表示追踪iter的下标\n",
    "    iter = np.nditer(W, flags=['multi_index'], op_flags=['readwrite'])\n",
    "    while not iter.finished:\n",
    "        # 获取当前参数的下标\n",
    "        index = iter.multi_index\n",
    "        # 保存当前iter的值\n",
    "        tmp = W[index]\n",
    "        # 求f(x+h)\n",
    "        W[index] = tmp+h\n",
    "        f1 = f(W)\n",
    "        # 求f(x-h)\n",
    "        W[index] = tmp-h\n",
    "        f2 = f(W)\n",
    "        # 求梯度\n",
    "        grad[index] = (f1-f2)/(2*h)\n",
    "        # 还原值\n",
    "        W[index] = tmp\n",
    "        # 继续迭代\n",
    "        iter.iternext()\n",
    "\n",
    "    return grad\n",
    "\n",
    "\n",
    "class TwoLayerNet:\n",
    "    # x_size:输入神经元个数；hidden_size中间层神经元个数；y_size输出层神经元个数；weight_init_std\n",
    "    def __init__(self, x_size, hidden_size, y_size, weight_init_std=0.01) -> None:\n",
    "        self.params = {}\n",
    "        self.params['W1'] = weight_init_std * \\\n",
    "            np.random.randn(x_size, hidden_size)  # \\表示两行之间是连接在一起的\n",
    "        self.params['b1'] = np.zeros(hidden_size)\n",
    "        self.params['W2'] = weight_init_std * \\\n",
    "            np.random.randn(hidden_size, y_size)\n",
    "        self.params['b2'] = np.zeros(y_size)\n",
    "\n",
    "    def predict(self, x):\n",
    "        W1, W2 = self.params['W1'], self.params['W2']\n",
    "        b1, b2 = self.params['b1'], self.params['b2']\n",
    "\n",
    "        a1 = np.dot(x, W1)+b1\n",
    "        z1 = sigmoid(a1)\n",
    "        a2 = np.dot(z1, W2)+b2\n",
    "        y = softmax(a2)\n",
    "\n",
    "        return y\n",
    "\n",
    "    def loss(self, x, label):\n",
    "        y = self.predict(x)\n",
    "        return cross_entropy_error(y, label)\n",
    "\n",
    "    def gradient(self, x, label):\n",
    "        # 找loss和W的关系\n",
    "        def loss_W(W):\n",
    "            # 实际上这个loss_W函数的参数W就是给个样子，没什么作用，实际算的就是loss函数\n",
    "            return self.loss(x, label)\n",
    "\n",
    "        grads = {}\n",
    "        grads['W1'] = numerical_gradient(loss_W, self.params['W1']) #列表，字典做形参原数据也会改变\n",
    "        grads['b1'] = numerical_gradient(loss_W, self.params['b1'])\n",
    "        grads['W2'] = numerical_gradient(loss_W, self.params['W2'])\n",
    "        grads['b2'] = numerical_gradient(loss_W, self.params['b2'])\n",
    "\n",
    "        return grads\n",
    "\n",
    "    def accuracy(self,x,label):\n",
    "        y=self.predict(x)\n",
    "        y=np.argmax(y,axis=1)\n",
    "        label=np.argmax(label,axis=1)\n",
    "\n",
    "        return np.sum(y==label)/float(x.shape[0])\n",
    "\n",
    "net = TwoLayerNet(2, 3, 2)\n",
    "net.gradient(np.array([1.0, 2.0]), np.array([0, 1]))\n"
   ]
  },
  {
   "attachments": {},
   "cell_type": "markdown",
   "metadata": {},
   "source": [
    "下面解释一下我在看这段代码时的困惑的地方：loss_W(W)中的W没起到实际的作用，为什么在计算梯度函数$numerical\\_gradient$中$f(x+h),f(x-h)$（这里的$f$就是$loss\\_W$）的值不一样？\n",
    "\n",
    "因为在这段代码中：\n",
    "\n",
    "```py\n",
    "def numerical_gradient(f, W):\n",
    "    h = 1e-4\n",
    "    grad = np.zeros_like(W)\n",
    "\n",
    "    # 求偏导\n",
    "    # flags=['multi_index']表示追踪iter的下标\n",
    "    iter = np.nditer(W, flags=['multi_index'], op_flags=['readwrite'])\n",
    "    while not iter.finished:\n",
    "        # 获取当前参数的下标\n",
    "        index = iter.multi_index\n",
    "        # 保存当前iter的值\n",
    "        tmp = W[index]\n",
    "        # 求f(x+h)\n",
    "        W[index] = tmp+h\n",
    "        f1 = f(W)\n",
    "        # 求f(x-h)\n",
    "        W[index] = tmp-h\n",
    "        f2 = f(W)\n",
    "        # 求梯度\n",
    "        grad[index] = (f1-f2)/(2*h)\n",
    "        # 还原值\n",
    "        W[index] = tmp\n",
    "        # 继续迭代\n",
    "        iter.iternext()\n",
    "\n",
    "    return grad\n",
    "```\n",
    "\n",
    "$W$数组是作为形参传进来的，\n",
    "\n",
    "```py\n",
    "    numerical_gradient(loss_W, self.params['W1'])\n",
    "```\n",
    "中的\n",
    "\n",
    "```py\n",
    "    self.params['W1']\n",
    "```\n",
    "\n",
    "作为形参赋给$W$，**函数中改变数组形参的值，原数组的值也会跟着改变**。\n",
    "\n",
    "所以，虽然\n",
    "\n",
    "```py\n",
    "    f1 = f(W)\n",
    "```\n",
    "\n",
    "看似$f1$的取值跟$W$没有关系，但在此之前，神经网络的权重就已经改变了。\n",
    "\n"
   ]
  },
  {
   "cell_type": "markdown",
   "metadata": {},
   "source": [
    "## 4.3训练阶段"
   ]
  },
  {
   "cell_type": "code",
   "execution_count": 17,
   "metadata": {},
   "outputs": [
    {
     "ename": "KeyboardInterrupt",
     "evalue": "",
     "output_type": "error",
     "traceback": [
      "\u001b[1;31m---------------------------------------------------------------------------\u001b[0m",
      "\u001b[1;31mKeyboardInterrupt\u001b[0m                         Traceback (most recent call last)",
      "Cell \u001b[1;32mIn[17], line 29\u001b[0m\n\u001b[0;32m     26\u001b[0m label_batch \u001b[38;5;241m=\u001b[39m label_train[batch_mask]\n\u001b[0;32m     28\u001b[0m \u001b[38;5;66;03m# 计算梯度并更新参数\u001b[39;00m\n\u001b[1;32m---> 29\u001b[0m grad \u001b[38;5;241m=\u001b[39m \u001b[43mnetwork\u001b[49m\u001b[38;5;241;43m.\u001b[39;49m\u001b[43mgradient\u001b[49m\u001b[43m(\u001b[49m\u001b[43mx_batch\u001b[49m\u001b[43m,\u001b[49m\u001b[43m \u001b[49m\u001b[43mlabel_batch\u001b[49m\u001b[43m)\u001b[49m\n\u001b[0;32m     30\u001b[0m \u001b[38;5;28;01mfor\u001b[39;00m key \u001b[38;5;129;01min\u001b[39;00m (\u001b[38;5;124m'\u001b[39m\u001b[38;5;124mW1\u001b[39m\u001b[38;5;124m'\u001b[39m, \u001b[38;5;124m'\u001b[39m\u001b[38;5;124mb1\u001b[39m\u001b[38;5;124m'\u001b[39m, \u001b[38;5;124m'\u001b[39m\u001b[38;5;124mW2\u001b[39m\u001b[38;5;124m'\u001b[39m, \u001b[38;5;124m'\u001b[39m\u001b[38;5;124mb2\u001b[39m\u001b[38;5;124m'\u001b[39m):\n\u001b[0;32m     31\u001b[0m     network\u001b[38;5;241m.\u001b[39mparams[key] \u001b[38;5;241m-\u001b[39m\u001b[38;5;241m=\u001b[39m learning_rate\u001b[38;5;241m*\u001b[39mgrad[key]\n",
      "Cell \u001b[1;32mIn[16], line 89\u001b[0m, in \u001b[0;36mTwoLayerNet.gradient\u001b[1;34m(self, x, label)\u001b[0m\n\u001b[0;32m     86\u001b[0m     \u001b[38;5;28;01mreturn\u001b[39;00m \u001b[38;5;28mself\u001b[39m\u001b[38;5;241m.\u001b[39mloss(x, label)\n\u001b[0;32m     88\u001b[0m grads \u001b[38;5;241m=\u001b[39m {}\n\u001b[1;32m---> 89\u001b[0m grads[\u001b[38;5;124m'\u001b[39m\u001b[38;5;124mW1\u001b[39m\u001b[38;5;124m'\u001b[39m] \u001b[38;5;241m=\u001b[39m \u001b[43mnumerical_gradient\u001b[49m\u001b[43m(\u001b[49m\u001b[43mloss_W\u001b[49m\u001b[43m,\u001b[49m\u001b[43m \u001b[49m\u001b[38;5;28;43mself\u001b[39;49m\u001b[38;5;241;43m.\u001b[39;49m\u001b[43mparams\u001b[49m\u001b[43m[\u001b[49m\u001b[38;5;124;43m'\u001b[39;49m\u001b[38;5;124;43mW1\u001b[39;49m\u001b[38;5;124;43m'\u001b[39;49m\u001b[43m]\u001b[49m\u001b[43m)\u001b[49m \u001b[38;5;66;03m#列表，字典做形参原数据也会改变\u001b[39;00m\n\u001b[0;32m     90\u001b[0m grads[\u001b[38;5;124m'\u001b[39m\u001b[38;5;124mb1\u001b[39m\u001b[38;5;124m'\u001b[39m] \u001b[38;5;241m=\u001b[39m numerical_gradient(loss_W, \u001b[38;5;28mself\u001b[39m\u001b[38;5;241m.\u001b[39mparams[\u001b[38;5;124m'\u001b[39m\u001b[38;5;124mb1\u001b[39m\u001b[38;5;124m'\u001b[39m])\n\u001b[0;32m     91\u001b[0m grads[\u001b[38;5;124m'\u001b[39m\u001b[38;5;124mW2\u001b[39m\u001b[38;5;124m'\u001b[39m] \u001b[38;5;241m=\u001b[39m numerical_gradient(loss_W, \u001b[38;5;28mself\u001b[39m\u001b[38;5;241m.\u001b[39mparams[\u001b[38;5;124m'\u001b[39m\u001b[38;5;124mW2\u001b[39m\u001b[38;5;124m'\u001b[39m])\n",
      "Cell \u001b[1;32mIn[16], line 42\u001b[0m, in \u001b[0;36mnumerical_gradient\u001b[1;34m(f, W)\u001b[0m\n\u001b[0;32m     40\u001b[0m \u001b[38;5;66;03m# 求f(x+h)\u001b[39;00m\n\u001b[0;32m     41\u001b[0m W[index] \u001b[38;5;241m=\u001b[39m tmp\u001b[38;5;241m+\u001b[39mh\n\u001b[1;32m---> 42\u001b[0m f1 \u001b[38;5;241m=\u001b[39m \u001b[43mf\u001b[49m\u001b[43m(\u001b[49m\u001b[43mW\u001b[49m\u001b[43m)\u001b[49m\n\u001b[0;32m     43\u001b[0m \u001b[38;5;66;03m# 求f(x-h)\u001b[39;00m\n\u001b[0;32m     44\u001b[0m W[index] \u001b[38;5;241m=\u001b[39m tmp\u001b[38;5;241m-\u001b[39mh\n",
      "Cell \u001b[1;32mIn[16], line 86\u001b[0m, in \u001b[0;36mTwoLayerNet.gradient.<locals>.loss_W\u001b[1;34m(W)\u001b[0m\n\u001b[0;32m     84\u001b[0m \u001b[38;5;28;01mdef\u001b[39;00m \u001b[38;5;21mloss_W\u001b[39m(W):\n\u001b[0;32m     85\u001b[0m     \u001b[38;5;66;03m# 实际上这个loss_W函数的参数W就是给个样子，没什么作用，实际算的就是loss函数\u001b[39;00m\n\u001b[1;32m---> 86\u001b[0m     \u001b[38;5;28;01mreturn\u001b[39;00m \u001b[38;5;28;43mself\u001b[39;49m\u001b[38;5;241;43m.\u001b[39;49m\u001b[43mloss\u001b[49m\u001b[43m(\u001b[49m\u001b[43mx\u001b[49m\u001b[43m,\u001b[49m\u001b[43m \u001b[49m\u001b[43mlabel\u001b[49m\u001b[43m)\u001b[49m\n",
      "Cell \u001b[1;32mIn[16], line 79\u001b[0m, in \u001b[0;36mTwoLayerNet.loss\u001b[1;34m(self, x, label)\u001b[0m\n\u001b[0;32m     78\u001b[0m \u001b[38;5;28;01mdef\u001b[39;00m \u001b[38;5;21mloss\u001b[39m(\u001b[38;5;28mself\u001b[39m, x, label):\n\u001b[1;32m---> 79\u001b[0m     y \u001b[38;5;241m=\u001b[39m \u001b[38;5;28;43mself\u001b[39;49m\u001b[38;5;241;43m.\u001b[39;49m\u001b[43mpredict\u001b[49m\u001b[43m(\u001b[49m\u001b[43mx\u001b[49m\u001b[43m)\u001b[49m\n\u001b[0;32m     80\u001b[0m     \u001b[38;5;28;01mreturn\u001b[39;00m cross_entropy_error(y, label)\n",
      "Cell \u001b[1;32mIn[16], line 71\u001b[0m, in \u001b[0;36mTwoLayerNet.predict\u001b[1;34m(self, x)\u001b[0m\n\u001b[0;32m     68\u001b[0m W1, W2 \u001b[38;5;241m=\u001b[39m \u001b[38;5;28mself\u001b[39m\u001b[38;5;241m.\u001b[39mparams[\u001b[38;5;124m'\u001b[39m\u001b[38;5;124mW1\u001b[39m\u001b[38;5;124m'\u001b[39m], \u001b[38;5;28mself\u001b[39m\u001b[38;5;241m.\u001b[39mparams[\u001b[38;5;124m'\u001b[39m\u001b[38;5;124mW2\u001b[39m\u001b[38;5;124m'\u001b[39m]\n\u001b[0;32m     69\u001b[0m b1, b2 \u001b[38;5;241m=\u001b[39m \u001b[38;5;28mself\u001b[39m\u001b[38;5;241m.\u001b[39mparams[\u001b[38;5;124m'\u001b[39m\u001b[38;5;124mb1\u001b[39m\u001b[38;5;124m'\u001b[39m], \u001b[38;5;28mself\u001b[39m\u001b[38;5;241m.\u001b[39mparams[\u001b[38;5;124m'\u001b[39m\u001b[38;5;124mb2\u001b[39m\u001b[38;5;124m'\u001b[39m]\n\u001b[1;32m---> 71\u001b[0m a1 \u001b[38;5;241m=\u001b[39m \u001b[43mnp\u001b[49m\u001b[38;5;241;43m.\u001b[39;49m\u001b[43mdot\u001b[49m\u001b[43m(\u001b[49m\u001b[43mx\u001b[49m\u001b[43m,\u001b[49m\u001b[43m \u001b[49m\u001b[43mW1\u001b[49m\u001b[43m)\u001b[49m\u001b[38;5;241m+\u001b[39mb1\n\u001b[0;32m     72\u001b[0m z1 \u001b[38;5;241m=\u001b[39m sigmoid(a1)\n\u001b[0;32m     73\u001b[0m a2 \u001b[38;5;241m=\u001b[39m np\u001b[38;5;241m.\u001b[39mdot(z1, W2)\u001b[38;5;241m+\u001b[39mb2\n",
      "\u001b[1;31mKeyboardInterrupt\u001b[0m: "
     ]
    }
   ],
   "source": [
    "import numpy as np\n",
    "from dataset.mnist import load_mnist\n",
    "import matplotlib.pyplot as plt\n",
    "\n",
    "# 获取数据集\n",
    "(x_train, label_train), (x_test, label_test) = load_mnist(\n",
    "    normalize=True, flatten=True, one_hot_label=True)\n",
    "\n",
    "# 用列表记录每一轮损失值\n",
    "loss_list = []\n",
    "\n",
    "# 设定超参数\n",
    "learning_rate = 0.1\n",
    "batch_size = 100\n",
    "train_size = x_train.shape[0]\n",
    "iter_num = 100  # 迭代次数\n",
    "\n",
    "# 建立网络对象\n",
    "network = TwoLayerNet(x_size=x_train.shape[1], hidden_size=50, y_size=label_train.shape[1])\n",
    "\n",
    "# 开始训练\n",
    "for i in range(iter_num):\n",
    "    # 选取mini-batch\n",
    "    batch_mask = np.random.choice(train_size, batch_size)\n",
    "    x_batch = x_train[batch_mask]\n",
    "    label_batch = label_train[batch_mask]\n",
    "\n",
    "    # 计算梯度并更新参数\n",
    "    grad = network.gradient(x_batch, label_batch)\n",
    "    for key in ('W1', 'b1', 'W2', 'b2'):\n",
    "        network.params[key] -= learning_rate*grad[key]\n",
    "\n",
    "    # 追踪每一轮的损失值\n",
    "    loss = network.loss(x_batch, label_batch)\n",
    "    loss_list.append(loss)\n",
    "\n",
    "# 画出损失值的曲线图\n",
    "time = list(range(1, iter_num+1))\n",
    "plt.plot(time, loss_list, scalex='times', scaley='loss')\n",
    "plt.show()\n"
   ]
  },
  {
   "attachments": {},
   "cell_type": "markdown",
   "metadata": {},
   "source": [
    "ps：上述代码跑了65分钟，仅仅100轮，实在太慢，没有特殊需求这部分代码别轻易运行。\n",
    "\n",
    "## 4.4测试阶段\n",
    "\n",
    "神经网络的学习中，必须确认是否能够正确识别训练数据以外的其他数据，即确认是否会发生过拟合。\n",
    "\n",
    "**过拟合是指，虽然训练数据中的数字图像能被正确辨别，但是不在训练数据中的数字图像却无法被识别的现象。** 神经网络学习的最初目标是掌握泛化能力，因此，要评价神经网络的泛化能力，就必须使用不包含在训练数据中的数据。\n",
    "\n",
    "【注】：**epoch**：一个epoch是指**学习中所有训练数据均被使用过一次时的更新次数**。比如，对于 10000笔训练数据，用大小为 100笔数据的mini-batch进行学习时，重复随机梯度下降法 100次，所有的训练数据就都被“看过”了A。此时，100次就是一个 epoch。（在训练阶段用的是随机mini-batch选取，所以不能保证每一个数据都能被选到。<u>**一般做法是事先将所有训练数据随机打乱，然后按指定的批次大小，按序生成mini-batch。这样每个mini-batch均有一个索引号，比如此例可以是0, 1, 2, ... , 99，然后用索引号可以遍历所有的mini-batch**</u>）\n",
    "\n",
    "测试阶段要做的事，一般是测试模型的准确度。为测试模型准确度，将训练阶段的代码稍作修改："
   ]
  },
  {
   "cell_type": "code",
   "execution_count": null,
   "metadata": {},
   "outputs": [],
   "source": [
    "import numpy as np\n",
    "from dataset.mnist import load_mnist\n",
    "import matplotlib.pyplot as plt\n",
    "\n",
    "# 获取数据集\n",
    "(x_train, label_train), (x_test, label_test) = load_mnist(\n",
    "    normalize=True, flatten=True, one_hot_label=True)\n",
    "\n",
    "train_accurate_list = []\n",
    "test_accurate_list=[]\n",
    "epoch=[]\n",
    "\n",
    "# 超参数\n",
    "train_size = x_train.shape[0]\n",
    "iter_num = 10000\n",
    "batch_size = 100\n",
    "learning_rate = 0.1\n",
    "\n",
    "# 一个epoch需要计算多少轮\n",
    "iter_per_epoch = max(train_size/batch_size, 1)  # 如果train_size<batch_size,则需要1轮\n",
    "\n",
    "network = TwoLayerNet(\n",
    "    x_size=x_train.shape[1], hidden_size=50, y_size=label_train.shape[1])\n",
    "\n",
    "for i in range(iter_num):\n",
    "    # 获取mini-batch\n",
    "    batch_mask = np.random.choice(x_train.shape[0], batch_size)\n",
    "    x_batch = x_train[batch_mask]\n",
    "    label_batch = label_train[batch_mask]\n",
    "\n",
    "    # 计算梯度并更新\n",
    "    grad = network.gradient(x_batch, label_batch)\n",
    "    for key in ('W1', 'b1', 'W2', 'b2'):\n",
    "        network.params[key] -= learning_rate*grad[key]\n",
    "\n",
    "    # 如果已经满一个epoch，也就是每iter_per_epoch轮，就计算准确度\n",
    "    if i%iter_per_epoch ==0:\n",
    "        epoch.append(i/iter_per_epoch)\n",
    "        train_accuracy=network.accuracy(x_train,label_train)\n",
    "        test_accuracy=network.accuracy(x_test,label_test)\n",
    "        train_accurate_list.append(train_accuracy)\n",
    "        test_accurate_list.append(test_accuracy)\n",
    "\n",
    "#画图\n",
    "plt.plot(epoch,train_accuracy)\n",
    "plt.plot(epoch,test_accuracy,linesyle='--')\n",
    "plt.legend(['train_accuracy','test_accuracy'])\n",
    "plt.show()"
   ]
  },
  {
   "attachments": {},
   "cell_type": "markdown",
   "metadata": {},
   "source": [
    "上述代码跑起来太费时间，光正向传播就要把10000+(70000/100)*(10000/600)=21666次batch送到网络中计算，之前100轮总共计算了200次batch花了一个小时。"
   ]
  }
 ],
 "metadata": {
  "kernelspec": {
   "display_name": "pythonProject",
   "language": "python",
   "name": "python3"
  },
  "language_info": {
   "codemirror_mode": {
    "name": "ipython",
    "version": 3
   },
   "file_extension": ".py",
   "mimetype": "text/x-python",
   "name": "python",
   "nbconvert_exporter": "python",
   "pygments_lexer": "ipython3",
   "version": "3.10.14"
  },
  "orig_nbformat": 4
 },
 "nbformat": 4,
 "nbformat_minor": 2
}
